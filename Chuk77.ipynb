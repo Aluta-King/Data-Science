{
 "cells": [
  {
   "cell_type": "code",
   "execution_count": 1,
   "id": "b9ff17fa-4448-4848-97c9-7522e34c5ed9",
   "metadata": {},
   "outputs": [
    {
     "name": "stdout",
     "output_type": "stream",
     "text": [
      "hello chukwunonso\n"
     ]
    }
   ],
   "source": [
    "print(\"hello chukwunonso\")"
   ]
  },
  {
   "cell_type": "code",
   "execution_count": 2,
   "id": "37dd0a7c-2327-4f5b-88ba-0dba5807e304",
   "metadata": {},
   "outputs": [
    {
     "name": "stdout",
     "output_type": "stream",
     "text": [
      "use my phone!\n"
     ]
    }
   ],
   "source": [
    "print(\"use my phone!\")"
   ]
  },
  {
   "cell_type": "code",
   "execution_count": 3,
   "id": "55a978fe-5481-4dbf-bf68-9faf935c58e7",
   "metadata": {},
   "outputs": [
    {
     "data": {
      "text/plain": [
       "13"
      ]
     },
     "execution_count": 3,
     "metadata": {},
     "output_type": "execute_result"
    }
   ],
   "source": [
    "6+7"
   ]
  },
  {
   "cell_type": "code",
   "execution_count": 4,
   "id": "29809966-c2ba-402f-9699-93469e09d560",
   "metadata": {},
   "outputs": [
    {
     "data": {
      "text/plain": [
       "20.0"
      ]
     },
     "execution_count": 4,
     "metadata": {},
     "output_type": "execute_result"
    }
   ],
   "source": [
    "600/30"
   ]
  },
  {
   "cell_type": "code",
   "execution_count": 5,
   "id": "0fc850d0-b950-4e1b-820d-d1f6f44c834a",
   "metadata": {},
   "outputs": [
    {
     "data": {
      "text/plain": [
       "44"
      ]
     },
     "execution_count": 5,
     "metadata": {},
     "output_type": "execute_result"
    }
   ],
   "source": [
    "89-45"
   ]
  },
  {
   "cell_type": "code",
   "execution_count": 6,
   "id": "ad7d6328-8526-49a0-a205-1cc77719af44",
   "metadata": {},
   "outputs": [
    {
     "data": {
      "text/plain": [
       "450"
      ]
     },
     "execution_count": 6,
     "metadata": {},
     "output_type": "execute_result"
    }
   ],
   "source": [
    "90*5"
   ]
  },
  {
   "cell_type": "code",
   "execution_count": 7,
   "id": "252c6b6c-7086-40f9-9720-1e5adccc559d",
   "metadata": {},
   "outputs": [
    {
     "data": {
      "text/plain": [
       "184"
      ]
     },
     "execution_count": 7,
     "metadata": {},
     "output_type": "execute_result"
    }
   ],
   "source": [
    "90*2+4"
   ]
  },
  {
   "cell_type": "code",
   "execution_count": null,
   "id": "e9d0beea-9226-4606-a403-d05eaa995e76",
   "metadata": {},
   "outputs": [],
   "source": []
  }
 ],
 "metadata": {
  "kernelspec": {
   "display_name": "Python 3 (ipykernel)",
   "language": "python",
   "name": "python3"
  },
  "language_info": {
   "codemirror_mode": {
    "name": "ipython",
    "version": 3
   },
   "file_extension": ".py",
   "mimetype": "text/x-python",
   "name": "python",
   "nbconvert_exporter": "python",
   "pygments_lexer": "ipython3",
   "version": "3.12.4"
  }
 },
 "nbformat": 4,
 "nbformat_minor": 5
}
